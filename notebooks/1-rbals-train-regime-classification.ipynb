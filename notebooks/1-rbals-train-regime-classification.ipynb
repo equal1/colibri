{
 "cells": [
  {
   "cell_type": "markdown",
   "metadata": {},
   "source": [
    "# Data preparation"
   ]
  },
  {
   "cell_type": "markdown",
   "metadata": {},
   "source": [
    "## Import libraries"
   ]
  },
  {
   "cell_type": "code",
   "execution_count": 1,
   "metadata": {},
   "outputs": [],
   "source": [
    "import sys, os, glob\n",
    "import numpy as np\n",
    "import matplotlib.pyplot as plt\n",
    "import seaborn as sns\n",
    "\n",
    "# Add the path to the src folder to the path\n",
    "module_path = os.path.abspath(os.path.join('../src/'))\n",
    "if module_path not in sys.path:\n",
    "    sys.path.append(module_path)\n",
    "\n",
    "\n",
    "from ml_tools.data.subimage_generator import SubImageGenerator\n"
   ]
  },
  {
   "cell_type": "markdown",
   "metadata": {},
   "source": [
    "## Load and crop images\n",
    "\n",
    "We assume that the \"Qflow2.0\" dataset are stored in the `data/raw/` directory. The link to the dataset is provided in the `data/external` folder.\n",
    "We also assume that you want to only train a model for state regime detection on the \"Qflow2.0\" dataset(the sim_normal data is for that).\n",
    "This cell is supposed to be run only once if save_data is set to True.\n",
    "The cropped images are stored in the `data/interim/` directory."
   ]
  },
  {
   "cell_type": "code",
   "execution_count": 2,
   "metadata": {},
   "outputs": [
    {
     "ename": "KeyError",
     "evalue": "\"Unable to open object (object 'phase' doesn't exist)\"",
     "output_type": "error",
     "traceback": [
      "\u001b[0;31m---------------------------------------------------------------------------\u001b[0m",
      "\u001b[0;31mKeyError\u001b[0m                                  Traceback (most recent call last)",
      "\u001b[1;32m/local/rbals/git/colibri/notebooks/1-rbals-train-regime-classification.ipynb Cell 5\u001b[0m line \u001b[0;36m8\n\u001b[1;32m      <a href='vscode-notebook-cell://ssh-remote%2Bgs-sc-001/local/rbals/git/colibri/notebooks/1-rbals-train-regime-classification.ipynb#W3sdnNjb2RlLXJlbW90ZQ%3D%3D?line=4'>5</a>\u001b[0m \u001b[39mfor\u001b[39;00m raw_data_file \u001b[39min\u001b[39;00m data_files:\n\u001b[1;32m      <a href='vscode-notebook-cell://ssh-remote%2Bgs-sc-001/local/rbals/git/colibri/notebooks/1-rbals-train-regime-classification.ipynb#W3sdnNjb2RlLXJlbW90ZQ%3D%3D?line=5'>6</a>\u001b[0m     generator \u001b[39m=\u001b[39m SubImageGenerator(border_margin\u001b[39m=\u001b[39m\u001b[39m20\u001b[39m)\n\u001b[0;32m----> <a href='vscode-notebook-cell://ssh-remote%2Bgs-sc-001/local/rbals/git/colibri/notebooks/1-rbals-train-regime-classification.ipynb#W3sdnNjb2RlLXJlbW90ZQ%3D%3D?line=7'>8</a>\u001b[0m     cropped_data \u001b[39m=\u001b[39m generator\u001b[39m.\u001b[39;49mgenerate_multiple_sub_images(\n\u001b[1;32m      <a href='vscode-notebook-cell://ssh-remote%2Bgs-sc-001/local/rbals/git/colibri/notebooks/1-rbals-train-regime-classification.ipynb#W3sdnNjb2RlLXJlbW90ZQ%3D%3D?line=8'>9</a>\u001b[0m         raw_data_file, save_images\u001b[39m=\u001b[39;49m\u001b[39mTrue\u001b[39;49;00m, return_images\u001b[39m=\u001b[39;49m\u001b[39mFalse\u001b[39;49;00m)\n",
      "File \u001b[0;32m/local/rbals/git/colibri/src/ml_tools/data/subimage_generator.py:101\u001b[0m, in \u001b[0;36mSubImageGenerator.generate_multiple_sub_images\u001b[0;34m(self, h5_file_path, data_key, x_key, y_key, num_crops, save_images, return_images)\u001b[0m\n\u001b[1;32m     98\u001b[0m     \u001b[39mfor\u001b[39;00m idx, dataset \u001b[39min\u001b[39;00m h5_file\u001b[39m.\u001b[39mitems():\n\u001b[1;32m     99\u001b[0m         \u001b[39mfor\u001b[39;00m i \u001b[39min\u001b[39;00m \u001b[39mrange\u001b[39m(num_crops):\n\u001b[1;32m    100\u001b[0m             cropped_data \u001b[39m=\u001b[39m \u001b[39mself\u001b[39m\u001b[39m.\u001b[39mgenerate_sub_image(\n\u001b[0;32m--> 101\u001b[0m                 dataset[\u001b[39m'\u001b[39m\u001b[39moutput\u001b[39m\u001b[39m'\u001b[39m][data_key][:], dataset[\u001b[39m'\u001b[39;49m\u001b[39moutput\u001b[39;49m\u001b[39m'\u001b[39;49m][\u001b[39m'\u001b[39;49m\u001b[39mphase\u001b[39;49m\u001b[39m'\u001b[39;49m][:],\n\u001b[1;32m    102\u001b[0m                 dataset[x_key][:], dataset[y_key][:], dataset[\u001b[39m'\u001b[39m\u001b[39mnoise_level\u001b[39m\u001b[39m'\u001b[39m][()]\n\u001b[1;32m    103\u001b[0m             )\n\u001b[1;32m    104\u001b[0m             cropped_dataset[\u001b[39mf\u001b[39m\u001b[39m\"\u001b[39m\u001b[39m{\u001b[39;00midx\u001b[39m}\u001b[39;00m\u001b[39m_\u001b[39m\u001b[39m{\u001b[39;00mi\u001b[39m}\u001b[39;00m\u001b[39m\"\u001b[39m] \u001b[39m=\u001b[39m cropped_data\n\u001b[1;32m    106\u001b[0m \u001b[39mprint\u001b[39m(\u001b[39mf\u001b[39m\u001b[39m\"\u001b[39m\u001b[39mGenerated \u001b[39m\u001b[39m{\u001b[39;00m\u001b[39mlen\u001b[39m(cropped_dataset\u001b[39m.\u001b[39mkeys())\u001b[39m}\u001b[39;00m\u001b[39m sub-images.\u001b[39m\u001b[39m\"\u001b[39m)\n",
      "File \u001b[0;32mh5py/_objects.pyx:54\u001b[0m, in \u001b[0;36mh5py._objects.with_phil.wrapper\u001b[0;34m()\u001b[0m\n",
      "File \u001b[0;32mh5py/_objects.pyx:55\u001b[0m, in \u001b[0;36mh5py._objects.with_phil.wrapper\u001b[0;34m()\u001b[0m\n",
      "File \u001b[0;32m/local/rbals/miniconda3/envs/colibri/lib/python3.10/site-packages/h5py/_hl/group.py:357\u001b[0m, in \u001b[0;36mGroup.__getitem__\u001b[0;34m(self, name)\u001b[0m\n\u001b[1;32m    355\u001b[0m         \u001b[39mraise\u001b[39;00m \u001b[39mValueError\u001b[39;00m(\u001b[39m\"\u001b[39m\u001b[39mInvalid HDF5 object reference\u001b[39m\u001b[39m\"\u001b[39m)\n\u001b[1;32m    356\u001b[0m \u001b[39melif\u001b[39;00m \u001b[39misinstance\u001b[39m(name, (\u001b[39mbytes\u001b[39m, \u001b[39mstr\u001b[39m)):\n\u001b[0;32m--> 357\u001b[0m     oid \u001b[39m=\u001b[39m h5o\u001b[39m.\u001b[39;49mopen(\u001b[39mself\u001b[39;49m\u001b[39m.\u001b[39;49mid, \u001b[39mself\u001b[39;49m\u001b[39m.\u001b[39;49m_e(name), lapl\u001b[39m=\u001b[39;49m\u001b[39mself\u001b[39;49m\u001b[39m.\u001b[39;49m_lapl)\n\u001b[1;32m    358\u001b[0m \u001b[39melse\u001b[39;00m:\n\u001b[1;32m    359\u001b[0m     \u001b[39mraise\u001b[39;00m \u001b[39mTypeError\u001b[39;00m(\u001b[39m\"\u001b[39m\u001b[39mAccessing a group is done with bytes or str, \u001b[39m\u001b[39m\"\u001b[39m\n\u001b[1;32m    360\u001b[0m                     \u001b[39m\"\u001b[39m\u001b[39mnot \u001b[39m\u001b[39m{}\u001b[39;00m\u001b[39m\"\u001b[39m\u001b[39m.\u001b[39mformat(\u001b[39mtype\u001b[39m(name)))\n",
      "File \u001b[0;32mh5py/_objects.pyx:54\u001b[0m, in \u001b[0;36mh5py._objects.with_phil.wrapper\u001b[0;34m()\u001b[0m\n",
      "File \u001b[0;32mh5py/_objects.pyx:55\u001b[0m, in \u001b[0;36mh5py._objects.with_phil.wrapper\u001b[0;34m()\u001b[0m\n",
      "File \u001b[0;32mh5py/h5o.pyx:190\u001b[0m, in \u001b[0;36mh5py.h5o.open\u001b[0;34m()\u001b[0m\n",
      "\u001b[0;31mKeyError\u001b[0m: \"Unable to open object (object 'phase' doesn't exist)\""
     ]
    }
   ],
   "source": [
    "# Set up the path to the data\n",
    "data_path = '../data/raw/data_qflow_v2/simulated/sim_normal/'\n",
    "data_files = glob.glob(data_path + '*.hdf5')\n",
    "\n",
    "for raw_data_file in data_files:\n",
    "    generator = SubImageGenerator(border_margin=20)\n",
    "\n",
    "    cropped_data = generator.generate_multiple_sub_images(\n",
    "        raw_data_file, save_images=True, return_images=False)\n",
    "\n",
    "    \n"
   ]
  },
  {
   "cell_type": "code",
   "execution_count": null,
   "metadata": {},
   "outputs": [],
   "source": []
  },
  {
   "cell_type": "code",
   "execution_count": null,
   "metadata": {},
   "outputs": [],
   "source": []
  },
  {
   "cell_type": "code",
   "execution_count": null,
   "metadata": {},
   "outputs": [],
   "source": []
  },
  {
   "cell_type": "code",
   "execution_count": null,
   "metadata": {},
   "outputs": [],
   "source": []
  }
 ],
 "metadata": {
  "kernelspec": {
   "display_name": "colibri",
   "language": "python",
   "name": "python3"
  },
  "language_info": {
   "codemirror_mode": {
    "name": "ipython",
    "version": 3
   },
   "file_extension": ".py",
   "mimetype": "text/x-python",
   "name": "python",
   "nbconvert_exporter": "python",
   "pygments_lexer": "ipython3",
   "version": "3.10.12"
  },
  "orig_nbformat": 4
 },
 "nbformat": 4,
 "nbformat_minor": 2
}
